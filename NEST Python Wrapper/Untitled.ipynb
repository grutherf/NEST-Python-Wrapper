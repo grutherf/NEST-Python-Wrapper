{
 "cells": [
  {
   "cell_type": "code",
   "execution_count": 1,
   "metadata": {},
   "outputs": [
    {
     "ename": "SyntaxError",
     "evalue": "invalid syntax (<ipython-input-1-948cae7f7e53>, line 1)",
     "output_type": "error",
     "traceback": [
      "\u001b[0;36m  File \u001b[0;32m\"<ipython-input-1-948cae7f7e53>\"\u001b[0;36m, line \u001b[0;32m1\u001b[0m\n\u001b[0;31m    ./testNEST 100 ER 100 100 -1 -1 -1\u001b[0m\n\u001b[0m    ^\u001b[0m\n\u001b[0;31mSyntaxError\u001b[0m\u001b[0;31m:\u001b[0m invalid syntax\n"
     ]
    }
   ],
   "source": [
    "./testNEST 100 ER 100 100 -1 -1 -1"
   ]
  },
  {
   "cell_type": "code",
   "execution_count": 2,
   "metadata": {},
   "outputs": [
    {
     "name": "stdout",
     "output_type": "stream",
     "text": [
      "#NEST.cpp#                NEST.cpp                  Untitled.ipynb\r\n",
      "\u001b[36mDeprecated_Files\u001b[m\u001b[m/         NEST.hh                   analysis.hh\r\n",
      "LUXSpikeCountLookup.h     README.txt                detector.hh\r\n",
      "\u001b[36mLUX_Detector_Settings\u001b[m\u001b[m/    TestSpectra.cpp           \u001b[36mobj\u001b[m\u001b[m/\r\n",
      "\u001b[36mLibNEST-jc_NESTv2_matlab\u001b[m\u001b[m/ TestSpectra.hh            \u001b[31mtestNEST\u001b[m\u001b[m*\r\n",
      "Makefile                  \u001b[36mTools\u001b[m\u001b[m/                    testNEST.cpp\r\n"
     ]
    }
   ],
   "source": [
    "ls"
   ]
  },
  {
   "cell_type": "code",
   "execution_count": 4,
   "metadata": {},
   "outputs": [
    {
     "data": {
      "text/plain": [
       "'testNEST 100 ER 100 100 -1 -1 -1'"
      ]
     },
     "execution_count": 4,
     "metadata": {},
     "output_type": "execute_result"
    }
   ],
   "source": [
    "testNEST 100 ER 100 100 -1 -1 -1"
   ]
  },
  {
   "cell_type": "code",
   "execution_count": 6,
   "metadata": {},
   "outputs": [
    {
     "name": "stdout",
     "output_type": "stream",
     "text": [
      "#NEST.cpp#                NEST.cpp                  Untitled.ipynb\r\n",
      "\u001b[36mDeprecated_Files\u001b[m\u001b[m/         NEST.hh                   analysis.hh\r\n",
      "LUXSpikeCountLookup.h     README.txt                detector.hh\r\n",
      "\u001b[36mLUX_Detector_Settings\u001b[m\u001b[m/    TestSpectra.cpp           \u001b[36mobj\u001b[m\u001b[m/\r\n",
      "\u001b[36mLibNEST-jc_NESTv2_matlab\u001b[m\u001b[m/ TestSpectra.hh            \u001b[31mtestNEST\u001b[m\u001b[m*\r\n",
      "Makefile                  \u001b[36mTools\u001b[m\u001b[m/                    testNEST.cpp\r\n"
     ]
    }
   ],
   "source": [
    "ls"
   ]
  },
  {
   "cell_type": "code",
   "execution_count": 7,
   "metadata": {},
   "outputs": [
    {
     "data": {
      "text/plain": [
       "'/Users/dongqinghuang/GitHub/LibNEST'"
      ]
     },
     "execution_count": 7,
     "metadata": {},
     "output_type": "execute_result"
    }
   ],
   "source": [
    "pwd"
   ]
  },
  {
   "cell_type": "code",
   "execution_count": null,
   "metadata": {
    "collapsed": true
   },
   "outputs": [],
   "source": []
  }
 ],
 "metadata": {
  "kernelspec": {
   "display_name": "Python 3",
   "language": "python",
   "name": "python3"
  },
  "language_info": {
   "codemirror_mode": {
    "name": "ipython",
    "version": 3
   },
   "file_extension": ".py",
   "mimetype": "text/x-python",
   "name": "python",
   "nbconvert_exporter": "python",
   "pygments_lexer": "ipython3",
   "version": "3.6.2"
  }
 },
 "nbformat": 4,
 "nbformat_minor": 2
}
